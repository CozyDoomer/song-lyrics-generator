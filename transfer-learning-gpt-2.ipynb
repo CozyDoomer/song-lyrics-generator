{
 "cells": [
  {
   "cell_type": "markdown",
   "metadata": {
    "toc": true
   },
   "source": [
    "<h1>Table of Contents<span class=\"tocSkip\"></span></h1>\n",
    "<div class=\"toc\"><ul class=\"toc-item\"><li><ul class=\"toc-item\"><li><span><a href=\"#-What-is-Transfer-learning?-\" data-toc-modified-id=\"-What-is-Transfer-learning?--0.1\"><span class=\"toc-item-num\">0.1&nbsp;&nbsp;</span> What is Transfer learning? </a></span></li><li><span><a href=\"#-What-is-GPT-2-\" data-toc-modified-id=\"-What-is-GPT-2--0.2\"><span class=\"toc-item-num\">0.2&nbsp;&nbsp;</span> What is GPT-2 </a></span></li></ul></li><li><span><a href=\"#-Imports-and-installation-\" data-toc-modified-id=\"-Imports-and-installation--1\"><span class=\"toc-item-num\">1&nbsp;&nbsp;</span> Imports and installation </a></span><ul class=\"toc-item\"><li><ul class=\"toc-item\"><li><span><a href=\"#Install-aitextgen-package\" data-toc-modified-id=\"Install-aitextgen-package-1.0.1\"><span class=\"toc-item-num\">1.0.1&nbsp;&nbsp;</span>Install <code>aitextgen</code> package</a></span></li><li><span><a href=\"#Download-the-GPT2-Model\" data-toc-modified-id=\"Download-the-GPT2-Model-1.0.2\"><span class=\"toc-item-num\">1.0.2&nbsp;&nbsp;</span>Download the GPT2 Model</a></span></li></ul></li><li><span><a href=\"#Setup-data\" data-toc-modified-id=\"Setup-data-1.1\"><span class=\"toc-item-num\">1.1&nbsp;&nbsp;</span>Setup data</a></span><ul class=\"toc-item\"><li><span><a href=\"#Read-and-tokenize-the-Input-Dataset\" data-toc-modified-id=\"Read-and-tokenize-the-Input-Dataset-1.1.1\"><span class=\"toc-item-num\">1.1.1&nbsp;&nbsp;</span>Read and tokenize the Input Dataset</a></span></li><li><span><a href=\"#Use-the-above-saved-text-file-for-fine-tuning---set-the-right-parameters\" data-toc-modified-id=\"Use-the-above-saved-text-file-for-fine-tuning---set-the-right-parameters-1.1.2\"><span class=\"toc-item-num\">1.1.2&nbsp;&nbsp;</span>Use the above saved text file for fine-tuning - set the right parameters</a></span></li></ul></li><li><span><a href=\"#Train-gpt-2\" data-toc-modified-id=\"Train-gpt-2-1.2\"><span class=\"toc-item-num\">1.2&nbsp;&nbsp;</span>Train gpt-2</a></span></li><li><span><a href=\"#Try-inference\" data-toc-modified-id=\"Try-inference-1.3\"><span class=\"toc-item-num\">1.3&nbsp;&nbsp;</span>Try inference</a></span><ul class=\"toc-item\"><li><span><a href=\"#Load-the-newly-fine-tuned-model-which-is-saved-in-trained_model-directory\" data-toc-modified-id=\"Load-the-newly-fine-tuned-model-which-is-saved-in-trained_model-directory-1.3.1\"><span class=\"toc-item-num\">1.3.1&nbsp;&nbsp;</span>Load the newly fine-tuned model which is saved in <code>trained_model</code> directory</a></span></li><li><span><a href=\"#Time-to-see-the-generated-text-in-action\" data-toc-modified-id=\"Time-to-see-the-generated-text-in-action-1.3.2\"><span class=\"toc-item-num\">1.3.2&nbsp;&nbsp;</span>Time to see the generated text in action</a></span></li></ul></li></ul></li></ul></div>"
   ]
  },
  {
   "cell_type": "markdown",
   "metadata": {},
   "source": [
    "<h2> What is Transfer learning? </h2>\n",
    "In short, Transfer learning is when a model trained for a certain task is reused as a starting point for some other task, saving time and effort of re-training.\n",
    "This is a helpful resource to read up on:\n",
    "\n",
    "https://ruder.io/transfer-learning/"
   ]
  },
  {
   "cell_type": "markdown",
   "metadata": {},
   "source": [
    "<h2> What is GPT-2 </h2>\n",
    "GPT-2 is a large transformer-based language model with 1.5 billion parameters, trained on a dataset[1]\n",
    "We created a new dataset which emphasizes diversity of content, by scraping content from the Internet. In order to preserve document quality, we used only pages which have been curated/filtered by humans—specifically, we used outbound links from Reddit which received at least 3 karma. This can be thought of as a heuristic indicator for whether other users found the link interesting (whether educational or funny), leading to higher data quality than other similar datasets, such as CommonCrawl.\n",
    "\n",
    "[Source](https://openai.com/blog/better-language-models/)"
   ]
  },
  {
   "cell_type": "markdown",
   "metadata": {},
   "source": [
    "<h1> Imports and installation </h1>"
   ]
  },
  {
   "cell_type": "code",
   "execution_count": null,
   "metadata": {
    "_cell_guid": "b1076dfc-b9ad-4769-8c92-a6c4dae69d19",
    "_uuid": "8f2839f25d086af736a60e9eeb907d3b93b6e0e5"
   },
   "outputs": [],
   "source": [
    "# This Python 3 environment comes with many helpful analytics libraries installed\n",
    "# It is defined by the kaggle/python Docker image: https://github.com/kaggle/docker-python\n",
    "# For example, here's several helpful packages to load\n",
    "\n",
    "import numpy as np # linear algebra\n",
    "import pandas as pd # data processing, CSV file I/O (e.g. pd.read_csv)\n",
    "\n",
    "# Input data files are available in the read-only \"../input/\" directory\n",
    "# For example, running this (by clicking run or pressing Shift+Enter) will list all files under the input directory\n",
    "\n",
    "import os\n",
    "for dirname, _, filenames in os.walk('/kaggle/input'):\n",
    "    for filename in filenames:\n",
    "        print(os.path.join(dirname, filename))\n",
    "\n",
    "# You can write up to 20GB to the current directory (/kaggle/working/) that gets preserved as output when you create a version using \"Save & Run All\" \n",
    "# You can also write temporary files to /kaggle/temp/, but they won't be saved outside of the current session"
   ]
  },
  {
   "cell_type": "code",
   "execution_count": null,
   "metadata": {},
   "outputs": [],
   "source": [
    "# can be any text file with text split in multiple lines, in this case we use the\n",
    "# text dataset scraped in the scrape_genius notebook\n",
    "input_path = \"./song_lyrics_data/terrible_german_lyrics.txt\""
   ]
  },
  {
   "cell_type": "markdown",
   "metadata": {},
   "source": [
    "### Install `aitextgen` package"
   ]
  },
  {
   "cell_type": "code",
   "execution_count": null,
   "metadata": {},
   "outputs": [],
   "source": [
    "!pip install -q aitextgen #install the main package"
   ]
  },
  {
   "cell_type": "code",
   "execution_count": null,
   "metadata": {},
   "outputs": [],
   "source": [
    "from aitextgen import aitextgen"
   ]
  },
  {
   "cell_type": "markdown",
   "metadata": {},
   "source": [
    "### Download the GPT2 Model"
   ]
  },
  {
   "cell_type": "code",
   "execution_count": null,
   "metadata": {
    "_kg_hide-output": true,
    "scrolled": true
   },
   "outputs": [],
   "source": [
    "# this is their default model for english data\n",
    "ai = aitextgen(tf_gpt2=\"124M\", to_gpu=True)\n",
    "\n",
    "# this is loading the model pretrained on german \n",
    "# ai = aitextgen(model=\"dbmdz/german-gpt2\", to_gpu=True)"
   ]
  },
  {
   "cell_type": "markdown",
   "metadata": {},
   "source": [
    "## Setup data"
   ]
  },
  {
   "cell_type": "markdown",
   "metadata": {},
   "source": [
    "### Read and tokenize the Input Dataset"
   ]
  },
  {
   "cell_type": "code",
   "execution_count": null,
   "metadata": {
    "_kg_hide-output": true
   },
   "outputs": [],
   "source": [
    "!head --lines=10 {input_path}"
   ]
  },
  {
   "cell_type": "code",
   "execution_count": null,
   "metadata": {},
   "outputs": [],
   "source": [
    "from aitextgen.TokenDataset import TokenDataset"
   ]
  },
  {
   "cell_type": "code",
   "execution_count": null,
   "metadata": {},
   "outputs": [],
   "source": [
    "data = TokenDataset(input_path, line_by_line=True)"
   ]
  },
  {
   "cell_type": "markdown",
   "metadata": {},
   "source": [
    "### Use the above saved text file for fine-tuning - set the right parameters "
   ]
  },
  {
   "cell_type": "code",
   "execution_count": null,
   "metadata": {},
   "outputs": [],
   "source": [
    "dataset_elems = sum(1 for line in open(input_path))\n",
    "dataset_elems"
   ]
  },
  {
   "cell_type": "markdown",
   "metadata": {},
   "source": [
    "## Train gpt-2"
   ]
  },
  {
   "cell_type": "code",
   "execution_count": null,
   "metadata": {},
   "outputs": [],
   "source": [
    "ai.train(\n",
    "    input_path,\n",
    "    line_by_line=False,\n",
    "    from_cache=False,\n",
    "    num_steps=dataset_elems * 4,  # 4 epochs\n",
    "    generate_every=2000,\n",
    "    save_every=2000,\n",
    "    save_gdrive=False,\n",
    "    learning_rate=1e-3,\n",
    "    batch_size=1,\n",
    ")"
   ]
  },
  {
   "cell_type": "markdown",
   "metadata": {},
   "source": [
    "## Try inference"
   ]
  },
  {
   "cell_type": "markdown",
   "metadata": {},
   "source": [
    "### Load the newly fine-tuned model which is saved in `trained_model` directory"
   ]
  },
  {
   "cell_type": "code",
   "execution_count": null,
   "metadata": {},
   "outputs": [],
   "source": [
    "ai = aitextgen(model_folder=\"./trained_model/\", config=\"./trained_model/config.json\", to_gpu=True)"
   ]
  },
  {
   "cell_type": "markdown",
   "metadata": {},
   "source": [
    "### Time to see the generated text in action"
   ]
  },
  {
   "cell_type": "code",
   "execution_count": null,
   "metadata": {},
   "outputs": [],
   "source": [
    "ai.generate(\n",
    "    n=5,\n",
    "    batch_size=1,\n",
    "    max_length=200,\n",
    "    temperature=1.0,\n",
    "    top_p=0.9\n",
    ")"
   ]
  },
  {
   "cell_type": "code",
   "execution_count": null,
   "metadata": {},
   "outputs": [],
   "source": [
    "ai.generate_samples(\n",
    "    prompt=\"jeder von uns hat einen schulabschluss\",\n",
    "    n=1,\n",
    "    batch_size=1,\n",
    "    max_length=500,\n",
    "    top_p=0.9\n",
    ")"
   ]
  },
  {
   "cell_type": "code",
   "execution_count": null,
   "metadata": {},
   "outputs": [],
   "source": []
  }
 ],
 "metadata": {
  "kernelspec": {
   "display_name": "Python 3 (ipykernel)",
   "language": "python",
   "name": "python3"
  },
  "language_info": {
   "codemirror_mode": {
    "name": "ipython",
    "version": 3
   },
   "file_extension": ".py",
   "mimetype": "text/x-python",
   "name": "python",
   "nbconvert_exporter": "python",
   "pygments_lexer": "ipython3",
   "version": "3.9.16"
  },
  "toc": {
   "base_numbering": 1,
   "nav_menu": {},
   "number_sections": true,
   "sideBar": true,
   "skip_h1_title": false,
   "title_cell": "Table of Contents",
   "title_sidebar": "Contents",
   "toc_cell": true,
   "toc_position": {},
   "toc_section_display": true,
   "toc_window_display": false
  }
 },
 "nbformat": 4,
 "nbformat_minor": 4
}
