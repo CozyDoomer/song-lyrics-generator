{
 "cells": [
  {
   "cell_type": "markdown",
   "metadata": {
    "toc": true
   },
   "source": [
    "<h1>Table of Contents<span class=\"tocSkip\"></span></h1>\n",
    "<div class=\"toc\"><ul class=\"toc-item\"><li><ul class=\"toc-item\"><li><span><a href=\"#-What-is-Transfer-learning?-\" data-toc-modified-id=\"-What-is-Transfer-learning?--0.1\"><span class=\"toc-item-num\">0.1&nbsp;&nbsp;</span> What is Transfer learning? </a></span></li><li><span><a href=\"#-What-is-GPT-2-\" data-toc-modified-id=\"-What-is-GPT-2--0.2\"><span class=\"toc-item-num\">0.2&nbsp;&nbsp;</span> What is GPT-2 </a></span></li></ul></li><li><span><a href=\"#-Imports-and-installation-\" data-toc-modified-id=\"-Imports-and-installation--1\"><span class=\"toc-item-num\">1&nbsp;&nbsp;</span> Imports and installation </a></span><ul class=\"toc-item\"><li><ul class=\"toc-item\"><li><span><a href=\"#Install-aitextgen-package\" data-toc-modified-id=\"Install-aitextgen-package-1.0.1\"><span class=\"toc-item-num\">1.0.1&nbsp;&nbsp;</span>Install <code>aitextgen</code> package</a></span></li><li><span><a href=\"#Download-the-GPT2-Model\" data-toc-modified-id=\"Download-the-GPT2-Model-1.0.2\"><span class=\"toc-item-num\">1.0.2&nbsp;&nbsp;</span>Download the GPT2 Model</a></span></li><li><span><a href=\"#Read-and-tokenize-the-Input-Dataset\" data-toc-modified-id=\"Read-and-tokenize-the-Input-Dataset-1.0.3\"><span class=\"toc-item-num\">1.0.3&nbsp;&nbsp;</span>Read and tokenize the Input Dataset</a></span></li><li><span><a href=\"#Use-the-above-saved-text-file-for-fine-tuning---set-the-right-parameters\" data-toc-modified-id=\"Use-the-above-saved-text-file-for-fine-tuning---set-the-right-parameters-1.0.4\"><span class=\"toc-item-num\">1.0.4&nbsp;&nbsp;</span>Use the above saved text file for fine-tuning - set the right parameters</a></span></li><li><span><a href=\"#Load-the-newly-fine-tuned-model-which-is-saved-in-trained_model-directory\" data-toc-modified-id=\"Load-the-newly-fine-tuned-model-which-is-saved-in-trained_model-directory-1.0.5\"><span class=\"toc-item-num\">1.0.5&nbsp;&nbsp;</span>Load the newly fine-tuned model which is saved in <code>trained_model</code> directory</a></span></li><li><span><a href=\"#Time-to-see-the-generated-text-in-action\" data-toc-modified-id=\"Time-to-see-the-generated-text-in-action-1.0.6\"><span class=\"toc-item-num\">1.0.6&nbsp;&nbsp;</span>Time to see the generated text in action</a></span></li></ul></li></ul></li></ul></div>"
   ]
  },
  {
   "cell_type": "markdown",
   "metadata": {},
   "source": [
    "<h2> What is Transfer learning? </h2>\n",
    "In short, Transfer learning is when a model trained for a certain task is reused as a starting point for some other task, saving time and effort of re-training.\n",
    "This is a helpful resource to read up on:\n",
    "\n",
    "https://ruder.io/transfer-learning/"
   ]
  },
  {
   "cell_type": "markdown",
   "metadata": {},
   "source": [
    "<h2> What is GPT-2 </h2>\n",
    "GPT-2 is a large transformer-based language model with 1.5 billion parameters, trained on a dataset[1]\n",
    "We created a new dataset which emphasizes diversity of content, by scraping content from the Internet. In order to preserve document quality, we used only pages which have been curated/filtered by humans—specifically, we used outbound links from Reddit which received at least 3 karma. This can be thought of as a heuristic indicator for whether other users found the link interesting (whether educational or funny), leading to higher data quality than other similar datasets, such as CommonCrawl.\n",
    "\n",
    "[Source](https://openai.com/blog/better-language-models/)"
   ]
  },
  {
   "cell_type": "markdown",
   "metadata": {},
   "source": [
    "<h1> Imports and installation </h1>"
   ]
  },
  {
   "cell_type": "code",
   "execution_count": null,
   "metadata": {
    "_cell_guid": "b1076dfc-b9ad-4769-8c92-a6c4dae69d19",
    "_uuid": "8f2839f25d086af736a60e9eeb907d3b93b6e0e5",
    "execution": {
     "iopub.execute_input": "2022-02-21T15:11:42.672133Z",
     "iopub.status.busy": "2022-02-21T15:11:42.671809Z",
     "iopub.status.idle": "2022-02-21T15:11:42.682239Z",
     "shell.execute_reply": "2022-02-21T15:11:42.681075Z",
     "shell.execute_reply.started": "2022-02-21T15:11:42.672044Z"
    }
   },
   "outputs": [],
   "source": [
    "# This Python 3 environment comes with many helpful analytics libraries installed\n",
    "# It is defined by the kaggle/python Docker image: https://github.com/kaggle/docker-python\n",
    "# For example, here's several helpful packages to load\n",
    "\n",
    "import numpy as np # linear algebra\n",
    "import pandas as pd # data processing, CSV file I/O (e.g. pd.read_csv)\n",
    "\n",
    "# Input data files are available in the read-only \"../input/\" directory\n",
    "# For example, running this (by clicking run or pressing Shift+Enter) will list all files under the input directory\n",
    "\n",
    "import os\n",
    "for dirname, _, filenames in os.walk('/kaggle/input'):\n",
    "    for filename in filenames:\n",
    "        print(os.path.join(dirname, filename))\n",
    "\n",
    "# You can write up to 20GB to the current directory (/kaggle/working/) that gets preserved as output when you create a version using \"Save & Run All\" \n",
    "# You can also write temporary files to /kaggle/temp/, but they won't be saved outside of the current session"
   ]
  },
  {
   "cell_type": "code",
   "execution_count": null,
   "metadata": {
    "execution": {
     "iopub.execute_input": "2022-02-21T15:11:42.684816Z",
     "iopub.status.busy": "2022-02-21T15:11:42.684174Z",
     "iopub.status.idle": "2022-02-21T15:11:42.689133Z",
     "shell.execute_reply": "2022-02-21T15:11:42.687975Z",
     "shell.execute_reply.started": "2022-02-21T15:11:42.684780Z"
    }
   },
   "outputs": [],
   "source": [
    "# can be any text file with text split in multiple lines, in this case we use the\n",
    "# text dataset scraped in the scrape_genius notebook\n",
    "input_path = \"./song_lyrics_data/terrible_german_lyrics.txt\""
   ]
  },
  {
   "cell_type": "markdown",
   "metadata": {},
   "source": [
    "### Install `aitextgen` package"
   ]
  },
  {
   "cell_type": "code",
   "execution_count": null,
   "metadata": {
    "execution": {
     "iopub.execute_input": "2022-02-21T15:11:42.694358Z",
     "iopub.status.busy": "2022-02-21T15:11:42.693934Z",
     "iopub.status.idle": "2022-02-21T15:12:11.406615Z",
     "shell.execute_reply": "2022-02-21T15:12:11.405741Z",
     "shell.execute_reply.started": "2022-02-21T15:11:42.694327Z"
    }
   },
   "outputs": [],
   "source": [
    "!pip install -q aitextgen #install the main package"
   ]
  },
  {
   "cell_type": "code",
   "execution_count": null,
   "metadata": {
    "execution": {
     "iopub.execute_input": "2022-02-21T15:12:11.410124Z",
     "iopub.status.busy": "2022-02-21T15:12:11.409713Z",
     "iopub.status.idle": "2022-02-21T15:12:18.019628Z",
     "shell.execute_reply": "2022-02-21T15:12:18.018584Z",
     "shell.execute_reply.started": "2022-02-21T15:12:11.410035Z"
    }
   },
   "outputs": [],
   "source": [
    "from aitextgen import aitextgen"
   ]
  },
  {
   "cell_type": "markdown",
   "metadata": {},
   "source": [
    "### Download the GPT2 Model"
   ]
  },
  {
   "cell_type": "code",
   "execution_count": null,
   "metadata": {
    "execution": {
     "iopub.execute_input": "2022-02-21T15:12:18.021741Z",
     "iopub.status.busy": "2022-02-21T15:12:18.021385Z",
     "iopub.status.idle": "2022-02-21T15:12:18.087967Z",
     "shell.execute_reply": "2022-02-21T15:12:18.086860Z",
     "shell.execute_reply.started": "2022-02-21T15:12:18.021702Z"
    }
   },
   "outputs": [],
   "source": [
    "aitextgen?"
   ]
  },
  {
   "cell_type": "code",
   "execution_count": null,
   "metadata": {
    "_kg_hide-output": true,
    "execution": {
     "iopub.execute_input": "2022-02-21T15:12:18.089661Z",
     "iopub.status.busy": "2022-02-21T15:12:18.089329Z",
     "iopub.status.idle": "2022-02-21T15:38:56.190441Z",
     "shell.execute_reply": "2022-02-21T15:38:56.189619Z",
     "shell.execute_reply.started": "2022-02-21T15:12:18.089626Z"
    }
   },
   "outputs": [],
   "source": [
    "# this is their default model for english data\n",
    "ai = aitextgen(tf_gpt2=\"124M\", to_gpu=True)\n",
    "\n",
    "# this is loading the model pretrained on german \n",
    "# ai = aitextgen(model=\"dbmdz/german-gpt2\", to_gpu=True)"
   ]
  },
  {
   "cell_type": "markdown",
   "metadata": {},
   "source": [
    "### Read and tokenize the Input Dataset"
   ]
  },
  {
   "cell_type": "code",
   "execution_count": null,
   "metadata": {
    "_kg_hide-output": true,
    "execution": {
     "iopub.execute_input": "2022-02-21T15:38:56.194892Z",
     "iopub.status.busy": "2022-02-21T15:38:56.194623Z",
     "iopub.status.idle": "2022-02-21T15:38:56.891676Z",
     "shell.execute_reply": "2022-02-21T15:38:56.890804Z",
     "shell.execute_reply.started": "2022-02-21T15:38:56.194866Z"
    }
   },
   "outputs": [],
   "source": [
    "!head --lines=10 {input_path}"
   ]
  },
  {
   "cell_type": "code",
   "execution_count": null,
   "metadata": {
    "execution": {
     "iopub.execute_input": "2022-02-21T15:38:56.893887Z",
     "iopub.status.busy": "2022-02-21T15:38:56.893520Z",
     "iopub.status.idle": "2022-02-21T15:38:56.898771Z",
     "shell.execute_reply": "2022-02-21T15:38:56.897678Z",
     "shell.execute_reply.started": "2022-02-21T15:38:56.893849Z"
    }
   },
   "outputs": [],
   "source": [
    "from aitextgen.TokenDataset import TokenDataset"
   ]
  },
  {
   "cell_type": "code",
   "execution_count": null,
   "metadata": {
    "execution": {
     "iopub.execute_input": "2022-02-21T15:38:56.901428Z",
     "iopub.status.busy": "2022-02-21T15:38:56.900572Z",
     "iopub.status.idle": "2022-02-21T15:38:58.108971Z",
     "shell.execute_reply": "2022-02-21T15:38:58.108183Z",
     "shell.execute_reply.started": "2022-02-21T15:38:56.901388Z"
    }
   },
   "outputs": [],
   "source": [
    "data = TokenDataset(input_path, line_by_line=True)"
   ]
  },
  {
   "cell_type": "markdown",
   "metadata": {},
   "source": [
    "### Use the above saved text file for fine-tuning - set the right parameters "
   ]
  },
  {
   "cell_type": "code",
   "execution_count": null,
   "metadata": {
    "execution": {
     "iopub.execute_input": "2022-02-21T15:38:58.111001Z",
     "iopub.status.busy": "2022-02-21T15:38:58.110519Z",
     "iopub.status.idle": "2022-02-21T15:38:58.124205Z",
     "shell.execute_reply": "2022-02-21T15:38:58.123384Z",
     "shell.execute_reply.started": "2022-02-21T15:38:58.110959Z"
    }
   },
   "outputs": [],
   "source": [
    "dataset_elems = sum(1 for line in open(input_path))\n",
    "dataset_elems"
   ]
  },
  {
   "cell_type": "code",
   "execution_count": null,
   "metadata": {
    "execution": {
     "iopub.execute_input": "2022-02-21T15:38:58.126014Z",
     "iopub.status.busy": "2022-02-21T15:38:58.125591Z",
     "iopub.status.idle": "2022-02-21T15:38:58.141867Z",
     "shell.execute_reply": "2022-02-21T15:38:58.140381Z",
     "shell.execute_reply.started": "2022-02-21T15:38:58.125978Z"
    }
   },
   "outputs": [],
   "source": [
    "ai.train?"
   ]
  },
  {
   "cell_type": "code",
   "execution_count": null,
   "metadata": {
    "execution": {
     "iopub.execute_input": "2022-02-21T15:50:59.659636Z",
     "iopub.status.busy": "2022-02-21T15:50:59.659261Z"
    }
   },
   "outputs": [],
   "source": [
    "ai.train(\n",
    "     input_path,\n",
    "     line_by_line=False,\n",
    "     from_cache=False,\n",
    "     num_steps=dataset_elems*4,  # 4 epochs\n",
    "     generate_every=2000,\n",
    "     save_every=2000,\n",
    "     save_gdrive=False,\n",
    "     learning_rate=1e-3,\n",
    "     batch_size=2,\n",
    ")"
   ]
  },
  {
   "cell_type": "markdown",
   "metadata": {},
   "source": [
    "### Load the newly fine-tuned model which is saved in `trained_model` directory"
   ]
  },
  {
   "cell_type": "code",
   "execution_count": null,
   "metadata": {
    "execution": {
     "iopub.execute_input": "2022-02-21T10:01:04.566745Z",
     "iopub.status.busy": "2022-02-21T10:01:04.566123Z",
     "iopub.status.idle": "2022-02-21T10:01:04.94673Z",
     "shell.execute_reply": "2022-02-21T10:01:04.945405Z",
     "shell.execute_reply.started": "2022-02-21T10:01:04.566706Z"
    }
   },
   "outputs": [],
   "source": [
    "ai = aitextgen(model_folder=\"./trained_model/\", config=\"./trained_model/config.json\", to_gpu=True)"
   ]
  },
  {
   "cell_type": "markdown",
   "metadata": {},
   "source": [
    "### Time to see the generated text in action"
   ]
  },
  {
   "cell_type": "code",
   "execution_count": null,
   "metadata": {
    "execution": {
     "iopub.status.busy": "2022-02-21T10:01:04.949948Z",
     "iopub.status.idle": "2022-02-21T10:01:04.950758Z"
    }
   },
   "outputs": [],
   "source": [
    "ai.generate?"
   ]
  },
  {
   "cell_type": "code",
   "execution_count": null,
   "metadata": {
    "execution": {
     "iopub.status.busy": "2022-02-21T10:01:04.947892Z",
     "iopub.status.idle": "2022-02-21T10:01:04.948708Z"
    }
   },
   "outputs": [],
   "source": [
    "ai.generate(\n",
    "    n=5,\n",
    "    batch_size=1,\n",
    "    max_length=200,\n",
    "    temperature=1.0,\n",
    "    top_p=0.9\n",
    ")"
   ]
  },
  {
   "cell_type": "code",
   "execution_count": null,
   "metadata": {},
   "outputs": [],
   "source": []
  }
 ],
 "metadata": {
  "kernelspec": {
   "display_name": "Python 3 (ipykernel)",
   "language": "python",
   "name": "python3"
  },
  "language_info": {
   "codemirror_mode": {
    "name": "ipython",
    "version": 3
   },
   "file_extension": ".py",
   "mimetype": "text/x-python",
   "name": "python",
   "nbconvert_exporter": "python",
   "pygments_lexer": "ipython3",
   "version": "3.8.12"
  },
  "toc": {
   "base_numbering": 1,
   "nav_menu": {},
   "number_sections": true,
   "sideBar": true,
   "skip_h1_title": false,
   "title_cell": "Table of Contents",
   "title_sidebar": "Contents",
   "toc_cell": true,
   "toc_position": {},
   "toc_section_display": true,
   "toc_window_display": false
  }
 },
 "nbformat": 4,
 "nbformat_minor": 4
}
