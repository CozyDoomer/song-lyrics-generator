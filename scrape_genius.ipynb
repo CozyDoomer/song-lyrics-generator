{
 "cells": [
  {
   "cell_type": "markdown",
   "metadata": {
    "toc": true
   },
   "source": [
    "<h1>Table of Contents<span class=\"tocSkip\"></span></h1>\n",
    "<div class=\"toc\"><ul class=\"toc-item\"><li><span><a href=\"#Create-song-lyric-dataset-for-gpt-2\" data-toc-modified-id=\"Create-song-lyric-dataset-for-gpt-2-1\"><span class=\"toc-item-num\">1&nbsp;&nbsp;</span>Create song lyric dataset for gpt-2</a></span><ul class=\"toc-item\"><li><span><a href=\"#Import-functions-to-scrape-api.genius.com\" data-toc-modified-id=\"Import-functions-to-scrape-api.genius.com-1.1\"><span class=\"toc-item-num\">1.1&nbsp;&nbsp;</span>Import functions to scrape api.genius.com</a></span></li><li><span><a href=\"#Get-song-urls-from-artist-names\" data-toc-modified-id=\"Get-song-urls-from-artist-names-1.2\"><span class=\"toc-item-num\">1.2&nbsp;&nbsp;</span>Get song urls from artist names</a></span></li><li><span><a href=\"#Remove-duplicates-and-shuffle\" data-toc-modified-id=\"Remove-duplicates-and-shuffle-1.3\"><span class=\"toc-item-num\">1.3&nbsp;&nbsp;</span>Remove duplicates and shuffle</a></span></li><li><span><a href=\"#Get-lyrics-from-all-song-urls\" data-toc-modified-id=\"Get-lyrics-from-all-song-urls-1.4\"><span class=\"toc-item-num\">1.4&nbsp;&nbsp;</span>Get lyrics from all song urls</a></span></li><li><span><a href=\"#Additional-post-processing\" data-toc-modified-id=\"Additional-post-processing-1.5\"><span class=\"toc-item-num\">1.5&nbsp;&nbsp;</span>Additional post processing</a></span></li><li><span><a href=\"#Write-text-to-file-on-disk\" data-toc-modified-id=\"Write-text-to-file-on-disk-1.6\"><span class=\"toc-item-num\">1.6&nbsp;&nbsp;</span>Write text to file on disk</a></span></li></ul></li></ul></div>"
   ]
  },
  {
   "cell_type": "code",
   "execution_count": null,
   "metadata": {},
   "outputs": [],
   "source": [
    "import os\n",
    "import yaml\n",
    "import random\n",
    "from tqdm import tqdm\n",
    "\n",
    "from scrape_genius import request_song_urls, scrape_song_lyrics, clean_song_lyrics"
   ]
  },
  {
   "cell_type": "markdown",
   "metadata": {},
   "source": [
    "# Create song lyric dataset for gpt-2"
   ]
  },
  {
   "cell_type": "markdown",
   "metadata": {},
   "source": [
    "We can scraep api.genius.com to get the lyrics for certain artists and after some data cleaning come up with a decent dataset that should work as input to gpt-2"
   ]
  },
  {
   "cell_type": "markdown",
   "metadata": {},
   "source": [
    "## Import functions to scrape api.genius.com"
   ]
  },
  {
   "cell_type": "markdown",
   "metadata": {},
   "source": [
    "to get API token: https://docs.genius.com/"
   ]
  },
  {
   "cell_type": "code",
   "execution_count": null,
   "metadata": {},
   "outputs": [],
   "source": [
    "GENIUS_API_TOKEN = \"\"\n",
    "ARTIST_CONFIG = \"artist_dataset_ymls/english_rappers.yml\""
   ]
  },
  {
   "cell_type": "markdown",
   "metadata": {},
   "source": [
    "## Get song urls from artist names"
   ]
  },
  {
   "cell_type": "markdown",
   "metadata": {},
   "source": [
    "We can get a random selection\n",
    "(depends on order on genius.com which is probably sorted by popularity)\n",
    "of songs from a certain artist\n",
    "\n",
    "in the example I used bad german gangster rap artists"
   ]
  },
  {
   "cell_type": "code",
   "execution_count": null,
   "metadata": {},
   "outputs": [],
   "source": [
    "with open(ARTIST_CONFIG, \"r\") as stream:\n",
    "    artist_config = yaml.safe_load(stream)\n",
    "\n",
    "artist_config"
   ]
  },
  {
   "cell_type": "code",
   "execution_count": null,
   "metadata": {},
   "outputs": [],
   "source": [
    "artists_urls = []\n",
    "for artist_name, artist_params in artist_config.items():\n",
    "    artists_urls += request_song_urls(\n",
    "        artist_name=artist_name,\n",
    "        song_cap=artist_params[\"songs\"],\n",
    "        genius_api_token=GENIUS_API_TOKEN,\n",
    "        exclusion_string=artist_params[\"exclusion\"],\n",
    "    )\n",
    "\n",
    "len(artists_urls)"
   ]
  },
  {
   "cell_type": "markdown",
   "metadata": {},
   "source": [
    "## Remove duplicates and shuffle"
   ]
  },
  {
   "cell_type": "code",
   "execution_count": null,
   "metadata": {},
   "outputs": [],
   "source": [
    "artists_urls = list(dict.fromkeys(artists_urls))\n",
    "len(artists_urls)"
   ]
  },
  {
   "cell_type": "code",
   "execution_count": null,
   "metadata": {},
   "outputs": [],
   "source": [
    "random.shuffle(artists_urls)"
   ]
  },
  {
   "cell_type": "code",
   "execution_count": null,
   "metadata": {
    "scrolled": true
   },
   "outputs": [],
   "source": [
    "artists_urls[:10]"
   ]
  },
  {
   "cell_type": "markdown",
   "metadata": {},
   "source": [
    "## Get lyrics from all song urls"
   ]
  },
  {
   "cell_type": "code",
   "execution_count": null,
   "metadata": {},
   "outputs": [],
   "source": [
    "all_lyrics = []\n",
    "for url in tqdm(artists_urls):\n",
    "    lyrics = scrape_song_lyrics(url)\n",
    "    if lyrics is not None:\n",
    "        all_lyrics.extend(clean_song_lyrics(lyrics))"
   ]
  },
  {
   "cell_type": "markdown",
   "metadata": {},
   "source": [
    "## Additional post processing\n",
    "\n",
    "Seems like the descriptions (interpretation of songtext) for words on genius.com lead to lines split on these descriptions\n",
    "\n",
    "this makes sense since that causes a new html tag and beautifulsoup inserts a seperator there\n",
    "\n",
    "TODO: fix this properly when calling beautifulsoup `gettext()`  \n",
    "for now I just add 1-2 word lines back to the last line to mitigate the issue a bit"
   ]
  },
  {
   "cell_type": "code",
   "execution_count": null,
   "metadata": {},
   "outputs": [],
   "source": [
    "all_lyrics[:10]"
   ]
  },
  {
   "cell_type": "code",
   "execution_count": null,
   "metadata": {},
   "outputs": [],
   "source": [
    "fixed_lyrics = []\n",
    "for line in all_lyrics:\n",
    "    if len(line.split(\" \")) <= 2:\n",
    "        fixed_lyrics[-1] = fixed_lyrics[-1] + \" \" + line\n",
    "    else:\n",
    "        fixed_lyrics.append(line)"
   ]
  },
  {
   "cell_type": "code",
   "execution_count": null,
   "metadata": {},
   "outputs": [],
   "source": [
    "len(fixed_lyrics)"
   ]
  },
  {
   "cell_type": "markdown",
   "metadata": {},
   "source": [
    "## Write text to file on disk"
   ]
  },
  {
   "cell_type": "code",
   "execution_count": null,
   "metadata": {},
   "outputs": [],
   "source": [
    "output_folder = \"song_lyrics_data\"\n",
    "output_filename = os.path.basename(ARTIST_CONFIG).replace(\".yml\", \".txt\")\n",
    "\n",
    "os.makedirs(output_folder, exist_ok=True)"
   ]
  },
  {
   "cell_type": "code",
   "execution_count": null,
   "metadata": {},
   "outputs": [],
   "source": [
    "with open(os.path.join(output_folder, output_filename), \"w\") as f:\n",
    "    for line in fixed_lyrics:\n",
    "        f.write(line + \"\\n\")"
   ]
  },
  {
   "cell_type": "code",
   "execution_count": null,
   "metadata": {},
   "outputs": [],
   "source": []
  }
 ],
 "metadata": {
  "interpreter": {
   "hash": "1d7b86267b847b1091a1c66e5088b6b3dc9c873898a80c37692a9f41896449b9"
  },
  "kernelspec": {
   "display_name": "Python 3 (ipykernel)",
   "language": "python",
   "name": "python3"
  },
  "language_info": {
   "codemirror_mode": {
    "name": "ipython",
    "version": 3
   },
   "file_extension": ".py",
   "mimetype": "text/x-python",
   "name": "python",
   "nbconvert_exporter": "python",
   "pygments_lexer": "ipython3",
   "version": "3.8.12"
  },
  "toc": {
   "base_numbering": 1,
   "nav_menu": {},
   "number_sections": true,
   "sideBar": true,
   "skip_h1_title": false,
   "title_cell": "Table of Contents",
   "title_sidebar": "Contents",
   "toc_cell": true,
   "toc_position": {},
   "toc_section_display": true,
   "toc_window_display": false
  }
 },
 "nbformat": 4,
 "nbformat_minor": 2
}
